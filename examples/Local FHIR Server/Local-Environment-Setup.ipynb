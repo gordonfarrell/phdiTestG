{
 "cells": [
  {
   "cell_type": "markdown",
   "metadata": {},
   "source": [
    "# Description\n",
    "This notebook will help setup and run a HAPI FHIR server, and load synthetic data into it.\n",
    "\n",
    "# Requirements\n",
    "* Python with the `phdi` package installed\n",
    "* Java 11+ JDK - not JRE (for Synthea)\n",
    "* Docker (or equivalent)\n",
    "\n",
    "# Setup\n",
    "Creating a local test environment consists of a few steps outlined below. First, we must identify a running FHIR server to use as a test harness. The instructions below specify how to run a docker container with the HAPI FHIR server, generate data using Synthea, and load that data into the FHIR server. The method outlined here runs a transient FHIR server - anything loaded in to it will be destroyed when the container is stopped.\n",
    "\n",
    "## Run Docker\n",
    "In a separate terminal window, run the following command:\n",
    "```\n",
    "docker run -p 8080:8080 hapiproject/hapi:latest\n",
    "```\n",
    "\n",
    "## Generate Test Data using Synthea\n",
    "The following cell will generate randomized FHIR resources using Synthea.\n",
    "In order to control how the data is generated, feel free to modify the `synthea_command_arguments` to do what you need. Information about Synthea options is available [here](https://github.com/synthetichealth/synthea/wiki/Basic-Setup-and-Running#running-syntheatm)."
   ]
  },
  {
   "cell_type": "code",
   "execution_count": null,
   "metadata": {},
   "outputs": [],
   "source": [
    "import os\n",
    "import requests\n",
    "import subprocess\n",
    "\n",
    "######\n",
    "# User-defined settings\n",
    "######\n",
    "\n",
    "# The following arguments will be appended to the command line string.\n",
    "# More info available here: https://github.com/synthetichealth/synthea/wiki/Basic-Setup-and-Running#running-syntheatm\n",
    "synthea_command_arguments = [\"-p\", \"100\"]\n",
    "\n",
    "\n",
    "\n",
    "synthea_url = \"https://github.com/synthetichealth/synthea/releases/download/master-branch-latest/synthea-with-dependencies.jar\"\n",
    "\n",
    "# Download the synthea jar file\n",
    "synthea_jar_response = requests.get(synthea_url, stream=True)\n",
    "if not os.path.isdir(\"target\"):\n",
    "    os.mkdir(\"target\")\n",
    "if not os.path.exists(\"target/synthea-with-dependencies.jar\"):\n",
    "    print(\"Downloading synthea-with-dependencies.jar...\")\n",
    "    with open(\"target/synthea-with-dependencies.jar\",\"wb\") as file:\n",
    "        for chunk in synthea_jar_response.iter_content(chunk_size=1024):\n",
    "            file.write(chunk)\n",
    "\n",
    "# Create Synthea data\n",
    "synthea_args = [\"java\", \"-jar\", \"synthea-with-dependencies.jar\"]\n",
    "synthea_args.extend(synthea_command_arguments)\n",
    "print(synthea_args)\n",
    "subprocess.run(args=synthea_args, cwd=\"target\")"
   ]
  },
  {
   "cell_type": "markdown",
   "metadata": {},
   "source": [
    "## Load Data\n",
    "The command above should have generated a set of syntentic patients in FHIR format.  Now we need to upload them to the FHIR server."
   ]
  },
  {
   "cell_type": "code",
   "execution_count": null,
   "metadata": {},
   "outputs": [],
   "source": [
    "import json\n",
    "import phdi.fhir.transport\n",
    "import os\n",
    "import pathlib\n",
    "\n",
    "base_path = os.path.join(\"target\",\"output\",\"fhir\")\n",
    "for fhir_filename in os.listdir(base_path):\n",
    "    fhir_filepath = os.path.join(base_path, fhir_filename)\n",
    "    print(f\"Evaluating {fhir_filepath}\")\n",
    "\n",
    "    if os.path.isfile(fhir_filepath) and fhir_filepath.endswith(\".json\"):\n",
    "        with open(fhir_filepath) as fhir_file:\n",
    "            print(f\"Importing {fhir_filepath}\")\n",
    "            phdi.fhir.transport.http.http_request_with_reauth(cred_manager=None, url=\"http://localhost:8080/fhir\", retry_count=3, request_type=\"POST\", allowed_methods=\"POST\", headers={}, data=json.load(fhir_file))"
   ]
  }
 ],
 "metadata": {
  "kernelspec": {
   "display_name": "Python 3.9.12 64-bit ('phdi')",
   "language": "python",
   "name": "python3"
  },
  "language_info": {
   "codemirror_mode": {
    "name": "ipython",
    "version": 3
   },
   "file_extension": ".py",
   "mimetype": "text/x-python",
   "name": "python",
   "nbconvert_exporter": "python",
   "pygments_lexer": "ipython3",
   "version": "3.9.12"
  },
  "orig_nbformat": 4,
  "vscode": {
   "interpreter": {
    "hash": "e103a5e2cf332ada5e63cb8ed09836b0c0753cc78d7570640dbe1135af568ea1"
   }
  }
 },
 "nbformat": 4,
 "nbformat_minor": 2
}
